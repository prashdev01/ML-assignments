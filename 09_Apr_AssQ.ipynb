{
 "cells": [
  {
   "cell_type": "markdown",
   "metadata": {},
   "source": [
    "# **Q1. What is Bayes' theorem?**\n"
   ]
  },
  {
   "cell_type": "markdown",
   "metadata": {},
   "source": [
    "#### Bayes therom is the fundamental concept in probability theory, thst plays very crucial role in various machine learing algorithms,\n",
    "\n",
    "#### It provides way to update probability based on new evidance of information perticularly in areas like classification and probabilstic modeling. in simple terms bayes theorem allows us to update our beliefs that the probablity of even occuring based on new evidance.\n"
   ]
  },
  {
   "cell_type": "markdown",
   "metadata": {},
   "source": [
    "# **Q2. What is the formula for Bayes' theorem?**\n"
   ]
  },
  {
   "cell_type": "markdown",
   "metadata": {},
   "source": [
    "## The formula for the Bayes theorem is:\n",
    "```math\n",
    "Bayes theorem:\n",
    "            P(B|A)*P(A)\n",
    "P(A|B) = ----------------\n",
    "                 P(B)\n",
    "``` \n",
    "#### Where:\n",
    "* `P(A|B)` = represent the probability of events `A` happening given that event `B` has occured.\n",
    "* `P(B|A)` = is the probability of event `B` happening given that event `A` has occured.\n",
    "* `P(A)` = is the prior probability of event `A` is happening\n",
    "* `P(B)` = is the prior probability of event `B` is happening. "
   ]
  },
  {
   "cell_type": "markdown",
   "metadata": {},
   "source": [
    "# **Q3. How is Bayes' theorem used in practice?**\n"
   ]
  },
  {
   "cell_type": "markdown",
   "metadata": {},
   "source": [
    "#### Let's take an exaple to understand how the bayes theorem is used in practice :\n",
    "#### imagine you have a bag containing red and blue balls.but you dont know the proporation of each color, now if someone drawas a ball from the bag tells you its color you can use bayes theorem to update your belief about proporation of red and blue balls in the bag."
   ]
  },
  {
   "cell_type": "markdown",
   "metadata": {},
   "source": [
    "# **Q4. What is the relationship between Bayes' theorem and conditional probability?**\n"
   ]
  },
  {
   "cell_type": "markdown",
   "metadata": {},
   "source": [
    "The relationship between bayes theorem and conditional probability is that bayes theorem allows us to compute conditional probabilities in situations where its easier to find the the reverse condiational probabilities its helps us to update our beliefs about the likelyhood of an event occuring based on new information or evidance, in essence bayes theorem is an generilzation of conditional probability that allows us to reason about uncertenly in a more flexile way."
   ]
  },
  {
   "cell_type": "markdown",
   "metadata": {},
   "source": [
    "# **Q5. How do you choose which type of Naive Bayes classifier to use for any given problem?**\n"
   ]
  },
  {
   "cell_type": "markdown",
   "metadata": {},
   "source": [
    "The use Naive bayes types is based which type of data we ate encountering with , \n",
    "* Baroili Naive Bayes: suppose the features in dataset show bernoli distribution then we should use the barnoli naive bayes.\n",
    "\n",
    "* Multinomial Navie Bayes :when your input data is text realeted then we should we use maltinomial naive bayes \n",
    "* Gaussian Naive Bayes: if the feature are following the gaussion distribution , then we use gaussion naive bayes classifiaction problem."
   ]
  },
  {
   "cell_type": "markdown",
   "metadata": {},
   "source": [
    "# **Q6. Assignment:**\n"
   ]
  },
  {
   "cell_type": "markdown",
   "metadata": {},
   "source": [
    "## You have a dataset with two features, X1 and X2, and two possible classes, A and B. You want to use Naive Bayes to classify a new instance with features X1 = 3 and X2 = 4. The following table shows the frequency of each feature value for each class:\n",
    "\"Class X1=1 X1=2 X1=3 X2=1 X2=2 X2=3 X2=4\n",
    "A       3     3    4   4    3     3    3\n",
    "B       2     2    1   2    2     2    3\"\n",
    "## Assuming equal prior probabilities for each class, which class would Naive Bayes predict the new instance to belong to?"
   ]
  },
  {
   "cell_type": "markdown",
   "metadata": {},
   "source": [
    "we have two features (X1 and X2) and two classes (A and B). To predict the class of a new instance with features X1=3 and X2=4, we calculate the probability of each class given these features.\n",
    "\n",
    "We can calculate the probability of each class given the features using the formula:\n",
    "\n",
    "* \\[ P(Class | X1, X2) = P(Class) \\times P(X1 | Class) \\times P(X2 | Class) \\]\n",
    "\n",
    "Since the prior probabilities for each class are equal, we can ignore them in this case.\n",
    "\n",
    "For class A:\n",
    "\n",
    "* \\[ P(A | X1=3, X2=4) = P(X1=3 | A) \\times P(X2=4 | A) \\]\n",
    "* \\[ P(A | X1=3, X2=4) = \\frac{4}{10} \\times \\frac{3}{10} = \\frac{12}{100} \\]\n",
    "\n",
    "For class B:\n",
    "\n",
    "* \\[ P(B | X1=3, X2=4) = P(X1=3 | B) \\times P(X2=4 | B) \\]\n",
    "* \\[ P(B | X1=3, X2=4) = \\frac{1}{5} \\times \\frac{3}{5} = \\frac{3}{25} \\]\n",
    "\n",
    "* Since \\(\\frac{12}{100} > \\frac{3}{25}\\), Naive Bayes would predict that the new instance belongs to class A. \n",
    "\n",
    "To simplify, given the data provided, the Naive Bayes algorithm predicts that an instance with features X1=3 and X2=4 is more likely to belong to class A than class B."
   ]
  }
 ],
 "metadata": {
  "kernelspec": {
   "display_name": "Python 3",
   "language": "python",
   "name": "python3"
  },
  "language_info": {
   "codemirror_mode": {
    "name": "ipython",
    "version": 3
   },
   "file_extension": ".py",
   "mimetype": "text/x-python",
   "name": "python",
   "nbconvert_exporter": "python",
   "pygments_lexer": "ipython3",
   "version": "3.12.2"
  }
 },
 "nbformat": 4,
 "nbformat_minor": 2
}
