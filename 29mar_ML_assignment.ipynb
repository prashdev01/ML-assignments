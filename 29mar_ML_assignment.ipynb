{
 "cells": [
  {
   "cell_type": "markdown",
   "metadata": {},
   "source": [
    "# **Q1. What is Lasso Regression, and how does it differ from other regression techniques?**"
   ]
  },
  {
   "cell_type": "markdown",
   "metadata": {},
   "source": [
    "Lasso Regression is a linear regression technique that incorporates regularization by adding a penalty term equivalent to the absolute value of the magnitude of coefficients. This differs from other regression techniques like Ordinary Least Squares (OLS) by penalizing large coefficients, effectively performing variable selection and shrinking coefficients towards zero simultaneously."
   ]
  },
  {
   "cell_type": "markdown",
   "metadata": {},
   "source": [
    "# **Q2. What is the main advantage of using Lasso Regression in feature selection?**\n"
   ]
  },
  {
   "cell_type": "markdown",
   "metadata": {},
   "source": [
    "The main advantage of Lasso Regression in feature selection is its ability to shrink coefficients of less important features to zero, effectively eliminating them from the model. This results in a simpler and more interpretable model with potentially better generalization performance."
   ]
  },
  {
   "cell_type": "markdown",
   "metadata": {},
   "source": [
    "# **Q3. How do you interpret the coefficients of a Lasso Regression model?**\n"
   ]
  },
  {
   "cell_type": "markdown",
   "metadata": {},
   "source": [
    "In Lasso Regression, the coefficients represent the relationship between the independent variables and the target variable after accounting for the regularization penalty. Coefficients with non-zero values indicate the importance of corresponding features in the model."
   ]
  },
  {
   "cell_type": "markdown",
   "metadata": {},
   "source": [
    "# **Q4. What are the tuning parameters that can be adjusted in Lasso Regression, and how do they affect the model's performance?**\n"
   ]
  },
  {
   "cell_type": "markdown",
   "metadata": {},
   "source": [
    "The main tuning parameter in Lasso Regression is the regularization parameter (lambda or alpha). Increasing lambda increases the strength of regularization, leading to more coefficients being pushed towards zero, thereby increasing model sparsity. However, too high a value of lambda may cause underfitting, so it's important to tune it appropriately."
   ]
  },
  {
   "cell_type": "markdown",
   "metadata": {},
   "source": [
    "# **Q5. Can Lasso Regression be used for non-linear regression problems? If yes, how?**\n"
   ]
  },
  {
   "cell_type": "markdown",
   "metadata": {},
   "source": [
    "Yes, Lasso Regression can be used for non-linear regression problems by employing basis expansion techniques like polynomial features or kernel methods to transform the input features into higher-dimensional space where linear relationships may be more apparent."
   ]
  },
  {
   "cell_type": "markdown",
   "metadata": {},
   "source": [
    "# **Q6. What is the difference between Ridge Regression and Lasso Regression?**\n"
   ]
  },
  {
   "cell_type": "markdown",
   "metadata": {},
   "source": [
    "The main difference between Ridge Regression and Lasso Regression lies in the penalty term used for regularization. Ridge Regression adds a penalty term equivalent to the square of the magnitude of coefficients, while Lasso Regression adds a penalty term equivalent to the absolute value of the magnitude of coefficients."
   ]
  },
  {
   "cell_type": "markdown",
   "metadata": {},
   "source": [
    "# **Q7. Can Lasso Regression handle multicollinearity in the input features? If yes, how?**\n"
   ]
  },
  {
   "cell_type": "markdown",
   "metadata": {},
   "source": [
    "Yes, Lasso Regression can handle multicollinearity in input features by effectively selecting one feature from a group of highly correlated features and pushing the coefficients of others towards zero. This results in a sparse model with only the most important features retained."
   ]
  },
  {
   "cell_type": "markdown",
   "metadata": {},
   "source": [
    "# **Q8. How do you choose the optimal value of the regularization parameter (lambda) in Lasso Regression?**"
   ]
  },
  {
   "cell_type": "markdown",
   "metadata": {},
   "source": [
    "The optimal value of the regularization parameter (lambda) in Lasso Regression can be chosen using techniques like cross-validation, where different values of lambda are tried on training data, and the one that results in the best performance on validation data is selected. Alternatively, techniques like grid search or randomized search can also be used to find the optimal lambda value."
   ]
  }
 ],
 "metadata": {
  "kernelspec": {
   "display_name": "Python 3",
   "language": "python",
   "name": "python3"
  },
  "language_info": {
   "codemirror_mode": {
    "name": "ipython",
    "version": 3
   },
   "file_extension": ".py",
   "mimetype": "text/x-python",
   "name": "python",
   "nbconvert_exporter": "python",
   "pygments_lexer": "ipython3",
   "version": "3.12.1"
  }
 },
 "nbformat": 4,
 "nbformat_minor": 2
}
