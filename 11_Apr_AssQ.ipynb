{
 "cells": [
  {
   "cell_type": "markdown",
   "metadata": {},
   "source": [
    "# **Q1. What is an ensemble technique in machine learning?**\n"
   ]
  },
  {
   "cell_type": "markdown",
   "metadata": {},
   "source": [
    "An ensanle technique in machine learning envolves combining multiple models to improve the overall predictive performance.this is achived by aggrigating the predictions from individual model to obtain a final prediction."
   ]
  },
  {
   "cell_type": "markdown",
   "metadata": {},
   "source": [
    "# **Q2. Why are ensemble techniques used in machine learning?**\n"
   ]
  },
  {
   "cell_type": "markdown",
   "metadata": {},
   "source": [
    "#### Ensemble technique are used in machine learning for several reasons: \n",
    "* Improved Accuracy: by combining multile models ensemble technique can often provide more accurate predications than individual models\n",
    "* Reduces Overfiting: ensemble technique can help reduce overfiting by combining the strength of multiple models\n",
    "* Robustness: they are more robust to noice and outiliers in the data.\n",
    "* Handling Complexity: some problems are to complex to solve by single a model, and ensemple technique can handle such complexity effectively.  "
   ]
  },
  {
   "cell_type": "markdown",
   "metadata": {},
   "source": [
    "# **Q3. What is bagging?**\n"
   ]
  },
  {
   "cell_type": "markdown",
   "metadata": {},
   "source": [
    "#### Bagging, or bootstrap aggregating, is an ensemble technique where multiple instances of the same base learning algorithm are trained on different bootstrap samples of the training data. These models are then combined to make predictions through averaging (for regression) or voting (for classification)."
   ]
  },
  {
   "cell_type": "markdown",
   "metadata": {},
   "source": [
    "# **Q4. What is boosting?**\n"
   ]
  },
  {
   "cell_type": "markdown",
   "metadata": {},
   "source": [
    "#### Boosting is an ensemble technique that combines multiple weak learners to create a strong learner. It works by sequentially training models each subsequent model focuses on the samples that previous models have misclassified. This allows boosting to adapt to the weaknesses of previous models and improve overall prediction accuracy."
   ]
  },
  {
   "cell_type": "markdown",
   "metadata": {},
   "source": [
    "# **Q5. What are the benefits of using ensemble techniques?**\n"
   ]
  },
  {
   "cell_type": "markdown",
   "metadata": {},
   "source": [
    "* Improved Accuracy: Ensemble techniques usually provide better predictive performance.\n",
    "* Reduced Overfitting: They help reduce overfitting and improve generalization.\n",
    "* Robustness: Ensemble techniques are more robust to noise and outliers in the data.\n",
    "* Handling Complexity: They can effectively handle complex problems that may be challenging for a single model.\n",
    "* Model Combination: They provide a way to combine the strengths of different models."
   ]
  },
  {
   "cell_type": "markdown",
   "metadata": {},
   "source": [
    "# **Q6. Are ensemble techniques always better than individual models?**\n"
   ]
  },
  {
   "cell_type": "markdown",
   "metadata": {},
   "source": [
    "Ensemble techniques are not always guaranteed to be superior to individual models. Their performance depends on the specific problem, the quality of the base models, and the way they are combined. In some cases, a single well-tuned model might outperform an ensemble."
   ]
  },
  {
   "cell_type": "markdown",
   "metadata": {},
   "source": [
    "# **Q7. How is the confidence interval calculated using bootstrap?**\n"
   ]
  },
  {
   "cell_type": "markdown",
   "metadata": {},
   "source": [
    "The confidence interval can be calculated using bootstrap by repeatedly resampling with replacement from the original sample, calculating the statistic of interest in each resample, and then obtaining the desired percentile interval from the resampled statistics."
   ]
  },
  {
   "cell_type": "markdown",
   "metadata": {},
   "source": [
    "# **Q8. How does bootstrap work and What are the steps involved in bootstrap?**\n"
   ]
  },
  {
   "cell_type": "markdown",
   "metadata": {},
   "source": [
    "* Resampling: Draw a sample with replacement from the original data for a large number of iterations.\n",
    "* Calculating Statistic: Compute the desired statistic (e.g., mean, standard deviation) for each resampled dataset.\n",
    "* Confidence Interval: Obtain the desired percentile interval from the resampled statistics to estimate the confidence interval."
   ]
  },
  {
   "cell_type": "markdown",
   "metadata": {},
   "source": [
    "# **Q9. A researcher wants to estimate the mean height of a population of trees. They measure the height of a sample of 50 trees and obtain a mean height of 15 meters and a standard deviation of 2 meters. Use bootstrap to estimate the 95% confidence interval for the population mean height.**"
   ]
  },
  {
   "cell_type": "markdown",
   "metadata": {},
   "source": [
    "- For estimating the 95% confidence interval for the population mean height:\n",
    "\n",
    "* Resampling: Repeatedly draw samples with replacement from the given sample of 50 tree heights.\n",
    "* Statistic Calculation: Calculate the mean height for each resampled dataset.\n",
    "* Confidence Interval: Obtain the 2.5th and 97.5th percentiles of the resampled mean heights to estimate the 95% confidence interval for the population mean height.\n",
    "\n",
    "The confidence interval can be estimated using the following steps:\n",
    "\n",
    "- Resample the heights of 50 trees with replacement.\n",
    "\n",
    "Calculate the mean height for each resampled dataset.\n",
    "Obtain the 2.5th and 97.5th percentiles of the resampled mean heights to estimate the 95% confidence interval for the population mean height."
   ]
  }
 ],
 "metadata": {
  "kernelspec": {
   "display_name": "Python 3",
   "language": "python",
   "name": "python3"
  },
  "language_info": {
   "name": "python",
   "version": "3.12.2"
  }
 },
 "nbformat": 4,
 "nbformat_minor": 2
}
