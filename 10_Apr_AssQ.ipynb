{
 "cells": [
  {
   "cell_type": "markdown",
   "metadata": {},
   "source": [
    "# **Q1. A company conducted a survey of its employees and found that 70% of the employees use the company's health insurance plan, while 40% of the employees who use the plan are smokers. What is the probability that an employee is a smoker given that he/she uses the health insurance plan?**\n"
   ]
  },
  {
   "cell_type": "markdown",
   "metadata": {},
   "source": [
    "### Probability of an Employee Being a Smoker Given Health Insurance Usage:\n",
    "We can use Bayes’ theorem to find the probability that an employee is a smoker given that they use the health insurance plan.\n",
    "\n",
    "Let’s denote:\n",
    "* (S): Event that an employee is a smoker.\n",
    "* (H): Event that an employee uses the health insurance plan.\n",
    "\n",
    "We are given:\n",
    "* (P(H) = 0.7) (probability of using health insurance plan)\n",
    "* (P(S|H) = 0.4) (probability of being a smoker given health insurance usage)\n",
    "\n",
    "We want to find (P(S|H)).\n",
    "\n",
    "* Bayes’ theorem states: [ P(S|H) = \\frac{{P(H|S) \\cdot P(S)}}{{P(H)}} ]\n",
    "* Plugging in the given values: [ P(S|H) = \\frac{{0.4 \\cdot 0.7}}{{0.7}} = 0.4 ]\n",
    "\n",
    "Therefore, the probability that an employee is a smoker given that they use the health insurance plan is 0.4."
   ]
  },
  {
   "cell_type": "markdown",
   "metadata": {},
   "source": [
    "# **Q2. What is the difference between Bernoulli Naive Bayes and Multinomial Naive Bayes?**\n"
   ]
  },
  {
   "cell_type": "markdown",
   "metadata": {},
   "source": [
    "## * Both Bernoulli Naive Bayes (BNB) and Multinomial Naive Bayes (MNB) are variants of the Naive Bayes algorithm.\n",
    "* Bernoulli Naive Bayes:\n",
    "    * Used for binary features (e.g., presence/absence of a feature).\n",
    "    * Models the presence/absence of a feature.\n",
    "    * Counts how many times a feature does not occur.\n",
    "\n",
    "* Example: Text classification where each word is either present or absent.\n",
    "\n",
    "* Multinomial Naive Bayes:\n",
    "    * Widely used for document classification.\n",
    "    * Models the number of counts of a feature (e.g., word frequencies).\n",
    "    * Considers multiple features that occur.\n",
    "* Example: Classifying documents based on word frequencies.\n",
    "\n",
    "* In summary:\n",
    "BNB focuses on a single feature, while MNB considers multiple features and their counts."
   ]
  },
  {
   "cell_type": "markdown",
   "metadata": {},
   "source": [
    "# **Q3. How does Bernoulli Naive Bayes handle missing values?**\n"
   ]
  },
  {
   "cell_type": "markdown",
   "metadata": {},
   "source": [
    "## Handling Missing Values in Bernoulli Naive Bayes:\n",
    "* Bernoulli Naive Bayes assumes binary features (presence/absence).\n",
    "* When dealing with missing values:\n",
    "    - Treat missing features as absent (i.e., value = 0).\n",
    "    - This aligns with the binary nature of BNB.\n",
    "    - It simplifies the model by not introducing additional complexity for handling missing data."
   ]
  },
  {
   "cell_type": "markdown",
   "metadata": {},
   "source": [
    "# **Q4. Can Gaussian Naive Bayes be used for multi-class classification?**"
   ]
  },
  {
   "cell_type": "markdown",
   "metadata": {},
   "source": [
    "# Gaussian Naive Bayes for Multi-Class Classification:\n",
    "* Gaussian Naive Bayes (GNB) assumes that features follow a Gaussian (normal) distribution.\n",
    "* GNB is primarily used for continuous-valued features.\n",
    "* It can be used for multi-class classification by extending the binary classification approach.\n",
    "* Each class has its own Gaussian distribution for each feature.\n",
    "* GNB calculates probabilities based on continuous feature values.\n",
    "* Therefore, yes, GNB can be used for multi-class classification."
   ]
  },
  {
   "cell_type": "markdown",
   "metadata": {},
   "source": [
    "# **Q5. Assignment:**\n",
    "## **Data preparation:**\n",
    "Download the \"Spambase Data Set\" from the UCI Machine Learning Repository (https://archive.ics.uci.edu/ml/\n",
    "datasets/Spambase). This dataset contains email messages, where the goal is to predict whether a message\n",
    "is spam or not based on several input features.\n",
    "## **Implementation:**\n",
    "Implement Bernoulli Naive Bayes, Multinomial Naive Bayes, and Gaussian Naive Bayes classifiers using the\n",
    "scikit-learn library in Python. Use 10-fold cross-validation to evaluate the performance of each classifier on the\n",
    "dataset. You should use the default hyperparameters for each classifier.\n",
    "# **Results:**\n",
    "**Report the following performance metrics for each classifier:**\n",
    "* Accuracy\n",
    "* Precision\n",
    "* Recall\n",
    "* F1 score\n",
    "# **Discussion:**\n",
    "Discuss the results you obtained. Which variant of Naive Bayes performed the best? Why do you think that is\n",
    "the case? Are there any limitations of Naive Bayes that you observed?\n",
    "# **Conclusion:**\n",
    "Summarise your findings and provide some suggestions for future work."
   ]
  },
  {
   "cell_type": "code",
   "execution_count": 8,
   "metadata": {},
   "outputs": [],
   "source": [
    "from ucimlrepo import fetch_ucirepo \n",
    "import pandas as pd\n",
    "import numpy as np\n",
    "from sklearn.model_selection import train_test_split \n",
    "\n",
    "spambase = fetch_ucirepo(id=94) \n",
    "\n",
    "\n",
    "# data (as pandas dataframes) \n",
    "X = spambase.data.features \n",
    "y = spambase.data.targets \n",
    "\n"
   ]
  },
  {
   "cell_type": "code",
   "execution_count": null,
   "metadata": {},
   "outputs": [],
   "source": []
  }
 ],
 "metadata": {
  "kernelspec": {
   "display_name": "Python 3",
   "language": "python",
   "name": "python3"
  },
  "language_info": {
   "codemirror_mode": {
    "name": "ipython",
    "version": 3
   },
   "file_extension": ".py",
   "mimetype": "text/x-python",
   "name": "python",
   "nbconvert_exporter": "python",
   "pygments_lexer": "ipython3",
   "version": "3.12.2"
  }
 },
 "nbformat": 4,
 "nbformat_minor": 2
}
