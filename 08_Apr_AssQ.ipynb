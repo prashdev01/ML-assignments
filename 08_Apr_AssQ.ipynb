{
 "cells": [
  {
   "cell_type": "markdown",
   "metadata": {},
   "source": [
    "# **Q1. In order to predict house price based on several characteristics, such as location, square footage, number of bedrooms, etc., you are developing an SVM regression model. Which regression metric in this situation would be the best to employ?**\n",
    "* Dataset link:https://drive.google.com/file/d/1Z9oLpmt6IDRNw7IeNcHYTGeJRYypRSC0/view?usp=share_link\n"
   ]
  },
  {
   "cell_type": "markdown",
   "metadata": {},
   "source": [
    "**Best Regression Metric for SVM Model:** When developing an SVM regression model to predict house prices based on various characteristics, the most appropriate regression metric would be the Mean Squared Error (MSE). MSE measures the average squared difference between the predicted and actual house prices. Lower MSE values indicate better model performance in terms of minimizing prediction errors. So, aim for a smaller MSE when evaluating your SVM model"
   ]
  },
  {
   "cell_type": "markdown",
   "metadata": {},
   "source": [
    "# **Q2.You have built an SVM regression model and are trying to decide between using MSE or R-squared as your evaluation metric. Which metric would be more appropriate if your goal is to predict the actual price of a house as accurately as possible?**\n"
   ]
  },
  {
   "cell_type": "markdown",
   "metadata": {},
   "source": [
    " **MSE vs. R-squared for Actual Price Prediction:** If your primary goal is to predict the actual price of a house as accurately as possible, MSE is the better choice. R-squared (R²) measures the proportion of variance explained by the model, but it doesn’t directly focus on prediction accuracy. MSE directly quantifies prediction errors, making it more suitable for your purpose"
   ]
  },
  {
   "cell_type": "markdown",
   "metadata": {},
   "source": [
    "# **Q3.You have a dataset with a significant number of outliers and are trying to select an appropriate regression metric to use with your SVM model. Which metric would be the most appropriate in this scenario?**\n"
   ]
  },
  {
   "cell_type": "markdown",
   "metadata": {},
   "source": [
    " **Handling Outliers in Regression Metrics:** When dealing with a dataset containing significant outliers, consider using the Mean Absolute Error (MAE). MAE is robust to outliers because it calculates the average absolute difference between predicted and actual values. Unlike MSE, which squares the errors, MAE treats all errors equally. This makes it less sensitive to extreme values and a good choice for outlier-prone data"
   ]
  },
  {
   "cell_type": "markdown",
   "metadata": {},
   "source": [
    "# **Q4.You have built an SVM regression model using a polynomial kernel and are trying to select the best metric to evaluate its performance. You have calculated both MSE and RMSE and found that both values are very close. Which metric should you choose to use in this case?**\n"
   ]
  },
  {
   "cell_type": "markdown",
   "metadata": {},
   "source": [
    "Since we’ve calculated both MSE and Root Mean Squared Error (RMSE) and found them to be very close, opt for RMSE. RMSE is the square root of MSE and provides a measure of the average prediction error in the original units (e.g., house prices). It’s commonly used when you want to interpret errors in the same scale as the target variable"
   ]
  },
  {
   "cell_type": "markdown",
   "metadata": {},
   "source": [
    "# **Q5.You are comparing the performance of different SVM regression models using different kernels (linear,polynomial, and RBF) and are trying to select the best evaluation metric. Which metric would be most appropriate if your goal is to measure how well the model explains the variance in the target variable?**\n"
   ]
  },
  {
   "cell_type": "markdown",
   "metadata": {},
   "source": [
    "Explaining Variance in Target Variable: To assess how well your SVM regression models explain the variance in the target variable, use the R-squared (R²) metric. R² quantifies the proportion of variance in the target variable that your model captures. Higher R² values indicate better explanatory power. Therefore, choose R² when evaluating different SVM models with various kernels"
   ]
  }
 ],
 "metadata": {
  "kernelspec": {
   "display_name": "Python 3",
   "language": "python",
   "name": "python3"
  },
  "language_info": {
   "codemirror_mode": {
    "name": "ipython",
    "version": 3
   },
   "file_extension": ".py",
   "mimetype": "text/x-python",
   "name": "python",
   "nbconvert_exporter": "python",
   "pygments_lexer": "ipython3",
   "version": "3.12.2"
  }
 },
 "nbformat": 4,
 "nbformat_minor": 2
}
