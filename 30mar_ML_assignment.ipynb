{
 "cells": [
  {
   "cell_type": "markdown",
   "metadata": {},
   "source": [
    "# **Q1. What is Elastic Net Regression and how does it differ from other regression techniques?**"
   ]
  },
  {
   "cell_type": "markdown",
   "metadata": {},
   "source": [
    "Elastic net regrassion is a linner regrassion technique that combines panalaties form both Lasso and Ridge regrassion. it differ from other regrassion technique by allowing simultaneous variable selection and coeficient shrinkage "
   ]
  },
  {
   "cell_type": "markdown",
   "metadata": {},
   "source": [
    "# **Q2. How do you choose the optimal values of the regularization parameters for Elastic Net Regression?**\n"
   ]
  },
  {
   "cell_type": "markdown",
   "metadata": {},
   "source": [
    "Optimal value for the regularization parameters in Elastic net regrassion are typocally chosen using technique like cross validation, where different combination of the two parameters (alpha and lambda) are tried on the training data, and the combination that results in the best performance on validation is scaled."
   ]
  },
  {
   "cell_type": "markdown",
   "metadata": {},
   "source": [
    "# **Q3. What are the advantages and disadvantages of Elastic Net Regression?**\n"
   ]
  },
  {
   "cell_type": "markdown",
   "metadata": {},
   "source": [
    "Advantages of Elastic Net Regression include its ability to handle multicollinearity and select relevant features while shrinking coefficients. However, it may be computationally expensive and sensitive to the choice of regularization parameters."
   ]
  },
  {
   "cell_type": "markdown",
   "metadata": {},
   "source": [
    "# **Q4. What are some common use cases for Elastic Net Regression?**\n"
   ]
  },
  {
   "cell_type": "markdown",
   "metadata": {},
   "source": [
    "Common use cases for Elastic Net regression include scenarios where there are many correleted predictors, and feature selection and regurization are required to prevent overfiting."
   ]
  },
  {
   "cell_type": "markdown",
   "metadata": {},
   "source": [
    "# **Q5. How do you interpret the coefficients in Elastic Net Regression?**\n"
   ]
  },
  {
   "cell_type": "markdown",
   "metadata": {},
   "source": [
    "Coefficients in Elastic Net Regression represent the relationship between independent variables and the target variable after considering both Lasso and Ridge penalties. Non-zero coefficients indicate the importance of corresponding features in the model."
   ]
  },
  {
   "cell_type": "markdown",
   "metadata": {},
   "source": [
    "# **Q6. How do you handle missing values when using Elastic Net Regression?**\n"
   ]
  },
  {
   "cell_type": "markdown",
   "metadata": {},
   "source": [
    "Missing values can be handled in Elastic Net Regression by imputing them with a suitable strategy such as mean imputation, median imputation, or using more advanced techniques like k-nearest neighbors imputation before fitting the model."
   ]
  },
  {
   "cell_type": "markdown",
   "metadata": {},
   "source": [
    "# **Q7. How do you use Elastic Net Regression for feature selection?**\n"
   ]
  },
  {
   "cell_type": "markdown",
   "metadata": {},
   "source": [
    "Elastic Net Regression can be used for feature selection by examining the magnitudes of the coefficients. Features with non-zero coefficients are considered important and retained in the model, while features with coefficients close to zero can be deemed less important and potentially excluded."
   ]
  },
  {
   "cell_type": "markdown",
   "metadata": {},
   "source": [
    "# **Q8. How do you pickle and unpickle a trained Elastic Net Regression model in Python?**\n"
   ]
  },
  {
   "cell_type": "markdown",
   "metadata": {},
   "source": [
    "**To pickle and unpickle a trained Elastic Net Regression model in Python, you can use the pickle module or the joblib library. Example code:**"
   ]
  },
  {
   "cell_type": "code",
   "execution_count": null,
   "metadata": {},
   "outputs": [],
   "source": [
    "import pickle\n",
    "\n",
    "# Pickle the trained model\n",
    "with open('elastic_net_model.pkl', 'wb') as f:\n",
    "    pickle.dump(elastic_net_model, f)\n",
    "\n",
    "# Unpickle the model\n",
    "with open('elastic_net_model.pkl', 'rb') as f:\n",
    "    loaded_model = pickle.load(f)"
   ]
  },
  {
   "cell_type": "markdown",
   "metadata": {},
   "source": [
    "# **Q9. What is the purpose of pickling a model in machine learning?**"
   ]
  },
  {
   "cell_type": "markdown",
   "metadata": {},
   "source": [
    "The purpose of pickling a model in machine learning is to serialize the trained model object into a file, allowing it to be saved and reused later without needing to retrain the model. Pickling is useful for storing models for deployment, sharing with others, or for later analysis."
   ]
  }
 ],
 "metadata": {
  "kernelspec": {
   "display_name": "Python 3",
   "language": "python",
   "name": "python3"
  },
  "language_info": {
   "codemirror_mode": {
    "name": "ipython",
    "version": 3
   },
   "file_extension": ".py",
   "mimetype": "text/x-python",
   "name": "python",
   "nbconvert_exporter": "python",
   "pygments_lexer": "ipython3",
   "version": "3.12.1"
  }
 },
 "nbformat": 4,
 "nbformat_minor": 2
}
