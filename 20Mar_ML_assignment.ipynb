{
 "cells": [
  {
   "cell_type": "markdown",
   "metadata": {},
   "source": [
    "# **Q1. What is data encoding? How is it useful in data science?**"
   ]
  },
  {
   "cell_type": "markdown",
   "metadata": {},
   "source": [
    "### The aim of the data encoding it to convert a categorical feature into sutable numerical feature so that we can train the ML model .\n",
    "\n",
    "### in the field of data science our main aim is to build machine learning models and train the model with appropriate data, when we have a dataset . the features of the dataset are not always in the numerical data so we have to convert the categorical data into numerical data so that over machine learning model should learn the pattern of the data and predict the outcome values.  \n",
    "\n",
    "***"
   ]
  },
  {
   "cell_type": "markdown",
   "metadata": {},
   "source": [
    "# **Q2. What is nominal encoding? Provide an example of how you would use it in a real-world scenario.**\n"
   ]
  },
  {
   "cell_type": "markdown",
   "metadata": {},
   "source": [
    "## Nominal encoding is the technique used to trannsform categorical variable that have no internsic ordering into numerical values that can be used in machine learning models. one common method for nominal encoding is one hot encoding which creates a binary vector for each category in the variable .\n",
    "\n",
    "### The aim of the data encoding it to convert a categorical feature into sutable numerical feature so that we can train the ML model .\n",
    "\n",
    "*  example : suppose we have a dataset of tips , so we can get how many customer are smocker or not\n"
   ]
  },
  {
   "cell_type": "code",
   "execution_count": 1,
   "metadata": {},
   "outputs": [
    {
     "data": {
      "text/html": [
       "<div>\n",
       "<style scoped>\n",
       "    .dataframe tbody tr th:only-of-type {\n",
       "        vertical-align: middle;\n",
       "    }\n",
       "\n",
       "    .dataframe tbody tr th {\n",
       "        vertical-align: top;\n",
       "    }\n",
       "\n",
       "    .dataframe thead th {\n",
       "        text-align: right;\n",
       "    }\n",
       "</style>\n",
       "<table border=\"1\" class=\"dataframe\">\n",
       "  <thead>\n",
       "    <tr style=\"text-align: right;\">\n",
       "      <th></th>\n",
       "      <th>total_bill</th>\n",
       "      <th>tip</th>\n",
       "      <th>sex</th>\n",
       "      <th>day</th>\n",
       "      <th>time</th>\n",
       "      <th>size</th>\n",
       "      <th>smoker_No</th>\n",
       "      <th>smoker_Yes</th>\n",
       "    </tr>\n",
       "  </thead>\n",
       "  <tbody>\n",
       "    <tr>\n",
       "      <th>0</th>\n",
       "      <td>16.99</td>\n",
       "      <td>1.01</td>\n",
       "      <td>Female</td>\n",
       "      <td>Sun</td>\n",
       "      <td>Dinner</td>\n",
       "      <td>2</td>\n",
       "      <td>1.0</td>\n",
       "      <td>0.0</td>\n",
       "    </tr>\n",
       "    <tr>\n",
       "      <th>1</th>\n",
       "      <td>10.34</td>\n",
       "      <td>1.66</td>\n",
       "      <td>Male</td>\n",
       "      <td>Sun</td>\n",
       "      <td>Dinner</td>\n",
       "      <td>3</td>\n",
       "      <td>1.0</td>\n",
       "      <td>0.0</td>\n",
       "    </tr>\n",
       "    <tr>\n",
       "      <th>2</th>\n",
       "      <td>21.01</td>\n",
       "      <td>3.50</td>\n",
       "      <td>Male</td>\n",
       "      <td>Sun</td>\n",
       "      <td>Dinner</td>\n",
       "      <td>3</td>\n",
       "      <td>1.0</td>\n",
       "      <td>0.0</td>\n",
       "    </tr>\n",
       "    <tr>\n",
       "      <th>3</th>\n",
       "      <td>23.68</td>\n",
       "      <td>3.31</td>\n",
       "      <td>Male</td>\n",
       "      <td>Sun</td>\n",
       "      <td>Dinner</td>\n",
       "      <td>2</td>\n",
       "      <td>1.0</td>\n",
       "      <td>0.0</td>\n",
       "    </tr>\n",
       "    <tr>\n",
       "      <th>4</th>\n",
       "      <td>24.59</td>\n",
       "      <td>3.61</td>\n",
       "      <td>Female</td>\n",
       "      <td>Sun</td>\n",
       "      <td>Dinner</td>\n",
       "      <td>4</td>\n",
       "      <td>1.0</td>\n",
       "      <td>0.0</td>\n",
       "    </tr>\n",
       "  </tbody>\n",
       "</table>\n",
       "</div>"
      ],
      "text/plain": [
       "   total_bill   tip     sex  day    time  size  smoker_No  smoker_Yes\n",
       "0       16.99  1.01  Female  Sun  Dinner     2        1.0         0.0\n",
       "1       10.34  1.66    Male  Sun  Dinner     3        1.0         0.0\n",
       "2       21.01  3.50    Male  Sun  Dinner     3        1.0         0.0\n",
       "3       23.68  3.31    Male  Sun  Dinner     2        1.0         0.0\n",
       "4       24.59  3.61  Female  Sun  Dinner     4        1.0         0.0"
      ]
     },
     "execution_count": 1,
     "metadata": {},
     "output_type": "execute_result"
    }
   ],
   "source": [
    "import seaborn as sns\n",
    "import pandas as pd\n",
    "from sklearn.preprocessing import OneHotEncoder\n",
    "encoder = OneHotEncoder()\n",
    "\n",
    "df = sns.load_dataset('tips')\n",
    "\n",
    "encoded = encoder.fit_transform(df[['smoker']])\n",
    "encoded_df = pd.DataFrame(encoded.toarray(),columns=encoder.get_feature_names_out())\n",
    "del df['smoker']\n",
    "final_df = pd.concat([df,encoded_df],axis=1)\n",
    "final_df.head()\n"
   ]
  },
  {
   "cell_type": "markdown",
   "metadata": {},
   "source": [
    "\n",
    "# **Q3. In what situations is nominal encoding preferred over one-hot encoding? Provide a practical example.**\n",
    "\n",
    "**ANS:**\n",
    "\n",
    "In situations where there is no meaningful order among the categories, nominal encoding is preferred over one-hot encoding. One-hot encoding creates new binary columns for each category, which can result in a lot of new columns if you have many categories. This can lead to what's known as the \"curse of dimensionality,\" where the number of dimensions (columns) becomes too large, making the data harder to work with and potentially leading to overfitting in machine learning models.\n",
    "\n",
    "For example, let's say you have a column of \"Fruit\" with categories like \"Apple,\" \"Banana,\" \"Orange,\" and so on. Since there is no inherent order among these fruits, using one-hot encoding would create separate columns for each fruit, making your dataset wider and potentially more challenging to work with.\n",
    "\n",
    "In this scenario, nominal encoding methods like Label Encoding or Ordinal Encoding can be more efficient. Label Encoding assigns a unique number to each category, and Ordinal Encoding assigns a number based on the order in which the categories appear. These methods help reduce the dimensionality of the data while still allowing the machine learning model to understand and learn from the categorical information.\n"
   ]
  },
  {
   "cell_type": "markdown",
   "metadata": {},
   "source": [
    "# **Q4. Suppose you have a dataset containing categorical data with 5 unique values. Which encoding technique would you use to transform this data into a format suitable for machine learning algorithms? Explain why you made this choice.**"
   ]
  },
  {
   "cell_type": "markdown",
   "metadata": {},
   "source": [
    "If I have a dataset containing categorical data with 5 unique values and no meaningful order or hierarchy among them, I would choose to use **One-Hot Encoding** to transform this data into a format suitable for machine learning algorithms.\n",
    "\n",
    "Here's why I would make this choice:\n",
    "\n",
    "1. **No Inherent Order:** One-Hot Encoding is ideal when there is no inherent order or ranking among the categories. Since the categorical data has 5 unique values and there is no indication that one value is greater or lesser than another, One-Hot Encoding would accurately represent this information without introducing any unintended relationships between the categories.\n",
    "\n",
    "2. **Preserving Information:** One-Hot Encoding creates a new binary column for each unique value in the categorical feature. Each column represents one category and contains either a 1 (if the instance belongs to that category) or a 0 (if it doesn't). This preserves the information about the original categories without imposing any numerical relationships.\n",
    "\n",
    "3. **Maintaining Model Performance:** One-Hot Encoding is widely accepted and used in machine learning because it doesn't assume any ordinal relationship between categories. Machine learning algorithms, especially those that use distance-based calculations (e.g., k-nearest neighbors), perform well with one-hot encoded data.\n",
    "\n",
    "4. **Avoiding Misinterpretation:** By using One-Hot Encoding, we explicitly avoid any potential misinterpretation that could arise from using techniques like Label Encoding or Ordinal Encoding. These techniques might inadvertently imply an order that doesn't exist in the data.\n",
    "\n",
    "One-Hot Encoding is the preferred choice when dealing with categorical data without an inherent order or hierarchy among the categories. It ensures that the machine learning algorithm can effectively learn from the data without introducing unintended relationships or assumptions."
   ]
  },
  {
   "cell_type": "markdown",
   "metadata": {},
   "source": [
    "# **Q5. In a machine learning project, you have a dataset with 1000 rows and 5 columns. Two of the columns are categorical, and the remaining three columns are numerical. If you were to use nominal encoding to transform the categorical data, how many new columns would be created? Show your calculations.**\n",
    "\n",
    "**ANS :**\n",
    "In your dataset, there are two categorical columns, so you will create 2 * 1 = 2 new columns.\n",
    "\n",
    "The first new column will be for the categorical column col5. This column has 3 unique categories: cat1, cat2, and cat3. So, the first new column will have 3 binary columns, one for each category. For example, the first binary column will have a value of 1 if the value in the col5 column is cat1, and 0 otherwise.\n",
    "\n",
    "The second new column will be for the categorical column col2. This column has 5 unique categories: x, y, z, a, and b. So, the second new column will have 5 binary columns, one for each category.\n",
    "\n",
    "Therefore, in total, you will create 2 new columns after using nominal encoding to transform the categorical data.\n",
    "\n",
    "Here is a table summarizing the number of new columns created for each categorical column:\n",
    "\n",
    "|columns | Number of unique category | Number of new columns |\n",
    "|--------|----------|-----------|\n",
    "|col5|3|2|\n",
    "|col2|5|5|\n",
    "\n"
   ]
  },
  {
   "cell_type": "code",
   "execution_count": 1,
   "metadata": {},
   "outputs": [
    {
     "name": "stdout",
     "output_type": "stream",
     "text": [
      "The number of new columns that would be created is: 23\n"
     ]
    }
   ],
   "source": [
    "import pandas as pd\n",
    "\n",
    "# Create a dataframe with 1000 rows and 5 columns, two of which are categorical\n",
    "df = pd.DataFrame({'col1': ['a', 'b', 'c', 'd', 'e', 'f', 'g', 'h', 'i', 'j'],\n",
    "                   'col2': ['x', 'y', 'z', 'a', 'b', 'c', 'd', 'e', 'f', 'g'],\n",
    "                   'col3': [1, 2, 3, 4, 5, 6, 7, 8, 9, 10],\n",
    "                   'col4': [10, 20, 30, 40, 50, 60, 70, 80, 90, 100],\n",
    "                   'col5': ['cat1', 'cat2', 'cat3', 'cat1', 'cat2', 'cat3', 'cat1', 'cat2', 'cat3', 'cat1']})\n",
    "\n",
    "# Get the number of unique values in each categorical column\n",
    "n_unique_values_per_column = df.select_dtypes(include='object').nunique()\n",
    "\n",
    "# Calculate the number of new columns that would be created\n",
    "number_of_new_columns = sum(n_unique_values_per_column)\n",
    "\n",
    "print('The number of new columns that would be created is:', number_of_new_columns)\n"
   ]
  },
  {
   "cell_type": "markdown",
   "metadata": {},
   "source": [
    "\n",
    "# **Q6. You are working with a dataset containing information about different types of animals, including their species, habitat, and diet. Which encoding technique would you use to transform the categorical data into a format suitable for machine learning algorithms? Justify your answer.**\n",
    "\n",
    "**ANS:** \n",
    "\n",
    "The encoding technique that I would use to transform the categorical data into a format suitable for machine learning algorithms is one-hot encoding.\n",
    "\n",
    "* *One-hot encoding* is a technique that creates a new binary column for each unique category in a categorical column. For example, if the categorical column species has the categories dog, cat, and fish, then one-hot encoding would create three new binary columns: is_dog, is_cat, and is_fish. The is_dog column would have a value of 1 if the value in the species column is dog, and 0 otherwise. The is_cat column would be similarly encoded, and the is_fish column would be similarly encoded.\n",
    "\n",
    "One-hot encoding is a good choice for categorical data because it preserves the information about the categories. It also does not assume any order between the categories, which is important for some machine learning algorithms.\n",
    "\n",
    "In the case of the dataset containing information about different types of animals, the species, habitat, and diet are all categorical data. So, I would use one-hot encoding to transform all of this data into a format suitable for machine learning algorithms.\n",
    "\n",
    "* Here are some other encoding techniques that can be used for categorical data:\n",
    "\n",
    "* *Label encoding:* This technique assigns a unique integer to each category. For example, the category dog might be assigned the integer 1, the category cat might be assigned the integer 2, and the category fish might be assigned the integer 3.\n",
    "Ordinal encoding: This technique assigns a unique integer to each category, but the integers have an order that reflects the order of the categories. For example, the category dog might be assigned the integer 1, the category cat might be assigned the integer 2, and the category fish might be assigned the integer 3.\n",
    "Target encoding: This technique uses the target variable to assign values to the categorical features. For example, if the target variable is the price of a house, then the category dog might be assigned the average price of houses that are owned by dogs.\n",
    "The choice of which encoding technique to use depends on the specific data and the machine learning algorithm that will be used. In general, one-hot encoding is a good choice for most categorical data.\n"
   ]
  },
  {
   "cell_type": "markdown",
   "metadata": {},
   "source": [
    "# **Q7.You are working on a project that involves predicting customer churn for a telecommunications company. You have a dataset with 5 features, including the customer's gender, age, contract type, monthly charges, and tenure. Which encoding technique(s) would you use to transform the categoricaldata into numerical data? Provide a step-by-step explanation of how you would implement the encoding.**\n",
    "\n",
    "**ANS :**\n",
    "The encoding techniques that I would use to transform the categorical data into numerical data are one-hot encoding and label encoding.\n",
    "\n",
    "One-hot encoding would be used for the gender and contract type columns. This is because these columns have more than two categories, and one-hot encoding will create a new binary column for each unique category. For example, the gender column has the categories male and female, so one-hot encoding would create two new binary columns: is_male and is_female. The is_male column would have a value of 1 if the value in the gender column is male, and 0 otherwise. The is_female column would be similarly encoded.\n",
    "Label encoding would be used for the age column. This is because this column has only two categories, and label encoding will assign a unique integer to each category. For example, the age column has the categories 18-25 and 26-35, so label encoding would assign the integer 1 to the category 18-25 and the integer 2 to the category 26-35.\n",
    "The monthly charges and tenure columns are already numerical data, so they do not need to be encoded.\n",
    "\n",
    "Here are the step-by-step instructions on how I would implement the encoding:\n",
    "\n",
    "1. Import the necessary libraries.\n",
    "2. Load the dataset.\n",
    "3. Create a copy of the dataset for the encoded data.\n",
    "4. One-hot encode the gender and contract type columns.\n",
    "5. Label encode the age column.\n",
    "6. Combine the encoded columns with the numerical columns.\n",
    "7. Save the encoded dataset.\n",
    "\n",
    "* `Here is the code for the above steps:`\n",
    "```Python\n",
    "import pandas as pd\n",
    "\n",
    "# Import the necessary libraries\n",
    "from sklearn.preprocessing import OneHotEncoder, LabelEncoder\n",
    "\n",
    "# Load the dataset\n",
    "df = pd.read_csv('customer_churn.csv')\n",
    "\n",
    "# Create a copy of the dataset for the encoded data\n",
    "df_encoded = df.copy()\n",
    "\n",
    "# One-hot encode the gender and contract type columns\n",
    "encoder = OneHotEncoder()\n",
    "df_encoded[['is_male', 'is_monthly']] = encoder.fit_transform(df_encoded[['gender', 'contract_type']])\n",
    "\n",
    "# Label encode the age column\n",
    "le = LabelEncoder()\n",
    "df_encoded['age'] = le.fit_transform(df_encoded['age'])\n",
    "\n",
    "# Combine the encoded columns with the numerical columns\n",
    "df_encoded = df_encoded[['is_male', 'is_monthly', 'age', 'monthly_charges', 'tenure']]\n",
    "\n",
    "# Save the encoded dataset\n",
    "df_encoded.to_csv('customer_churn_encoded.csv', index=False)```\n"
   ]
  }
 ],
 "metadata": {
  "kernelspec": {
   "display_name": "Python 3",
   "language": "python",
   "name": "python3"
  },
  "language_info": {
   "codemirror_mode": {
    "name": "ipython",
    "version": 3
   },
   "file_extension": ".py",
   "mimetype": "text/x-python",
   "name": "python",
   "nbconvert_exporter": "python",
   "pygments_lexer": "ipython3",
   "version": "3.11.3"
  },
  "orig_nbformat": 4
 },
 "nbformat": 4,
 "nbformat_minor": 2
}
