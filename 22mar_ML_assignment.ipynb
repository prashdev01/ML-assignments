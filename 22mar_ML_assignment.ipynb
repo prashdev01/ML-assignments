{
 "cells": [
  {
   "cell_type": "code",
   "execution_count": null,
   "metadata": {},
   "outputs": [],
   "source": [
    "#\n",
    "\n",
    "# Q5. A survey was conducted to examine the relationship between age and preference for a particular\n",
    "# brand of soft drink. The survey results are shown below:\n",
    "# Age(Years)\n",
    "# 25 Coke\n",
    "# 42 Pepsi\n",
    "# 37\n",
    "# 19\n",
    "# 31\n",
    "# 28\n",
    "\n",
    "# Mountain dew\n",
    "# Coke\n",
    "# Pepsi\n",
    "# Coke\n",
    "\n",
    "# Q6. A company is interested in examining the relationship between the number of sales calls made per day\n",
    "# and the number of sales made per week. The company collected data on both variables from a sample of\n",
    "# 30 sales representatives. Calculate the Pearson correlation coefficient between these two variables."
   ]
  },
  {
   "cell_type": "markdown",
   "metadata": {},
   "source": [
    "## **Q1. Pearson correlation coefficient is a measure of the linear relationship between two variables. Suppose you have collected data on the amount of time students spend studying for an exam and their final exam scores. Calculate the Pearson correlation coefficient between these two variables and interpret the result.**"
   ]
  },
  {
   "cell_type": "code",
   "execution_count": 11,
   "metadata": {},
   "outputs": [
    {
     "name": "stdout",
     "output_type": "stream",
     "text": [
      "pearson correlation coeficiant is  : 0.8986641371378515\n"
     ]
    }
   ],
   "source": [
    "# lest take an exmaple from the above question\n",
    "\n",
    "# creating a dataset which cantains two variables one is a time students spents on studying for exam . and the another one is the result the get in the final exam\n",
    "import pandas as pd\n",
    "import numpy as np\n",
    "\n",
    "df = pd.DataFrame({\n",
    "    \"time spent\": [2,4,1,6,8],\n",
    "    'results' : [50,40,30,60,80]\n",
    "})\n",
    "\n",
    "pearson_corr = df[['time spent','results']].corr(method='pearson').iloc[0,1]\n",
    "\n",
    "print(f\"pearson correlation coeficiant is  : {pearson_corr}\")"
   ]
  },
  {
   "cell_type": "markdown",
   "metadata": {},
   "source": [
    "### Certainly! The pearson correlation coefficient  is approximately 0.898. Here's a simple interpretation:\n",
    "\n",
    "**Interpretation:**\n",
    "The value of pearson correlation is close to 1, indicating a very strong positive relationship between the amount of students spent time on study and the final results the get. In simpler terms, as the amount of time the spent on study tends to higher , results tends to increase as well. This suggests a clear and consistent pattern: when students spents more time on studing , they are more likely to perform well in exam and get higher marks.\n",
    "\n",
    "***"
   ]
  },
  {
   "cell_type": "markdown",
   "metadata": {},
   "source": [
    "## **Q2. Spearman's rank correlation is a measure of the monotonic relationship between two variables. Suppose you have collected data on the amount of sleep individuals get each night and their overall job satisfaction level on a scale of 1 to 10. Calculate the Spearman's rank correlation between these two variables and interpret the result.**"
   ]
  },
  {
   "cell_type": "code",
   "execution_count": 12,
   "metadata": {},
   "outputs": [
    {
     "name": "stdout",
     "output_type": "stream",
     "text": [
      "spearman's rank correlation coeficiant (rho) is : 0.9746794344808964\n"
     ]
    }
   ],
   "source": [
    "import pandas as pd\n",
    "\n",
    "# Create a DataFrame with the given data\n",
    "data = {\n",
    "    'Individual': [1, 2, 3, 4, 5],\n",
    "    'Sleep': [7, 6, 8, 5, 7],\n",
    "    'Job_Satisfaction': [8, 6, 9, 5, 7]\n",
    "}\n",
    "\n",
    "df = pd.DataFrame(data)\n",
    "\n",
    "# Calculate spearman rank correlation \n",
    "# df.corr(method='spearman') \n",
    "\n",
    "# Calculate spearman rank correlation  coeficiant\n",
    "\n",
    "rho = df[['Sleep','Job_Satisfaction']].corr(method='spearman').iloc[0,1]\n",
    "print(f\"spearman's rank correlation coeficiant (rho) is : {rho}\")"
   ]
  },
  {
   "cell_type": "markdown",
   "metadata": {},
   "source": [
    "Certainly! The Spearman's rank correlation coefficient (\\( \\rho \\)) is approximately 0.975. Here's a simple interpretation:\n",
    "\n",
    "**Interpretation:**\n",
    "The value of rho  is close to 1, indicating a very strong positive monotonic relationship between the amount of sleep individuals get each night and their overall job satisfaction level. In simpler terms, as the amount of sleep increases, job satisfaction tends to increase as well. This suggests a clear and consistent pattern: when people sleep more, they are more likely to report higher levels of job satisfaction.\n",
    "\n",
    "***"
   ]
  },
  {
   "cell_type": "markdown",
   "metadata": {},
   "source": [
    "## **Q3. Suppose you are conducting a study to examine the relationship between the number of hours of exercise per week and body mass index (BMI) in a sample of adults. You collected data on both variables for 50 participants. Calculate the Pearson correlation coefficient and the Spearman's rank correlation between these two variables and compare the results.**"
   ]
  },
  {
   "cell_type": "code",
   "execution_count": 24,
   "metadata": {},
   "outputs": [
    {
     "name": "stdout",
     "output_type": "stream",
     "text": [
      "the pearson's correlation coeficiant is : 0.9803763544334108 and spearman's rank correlation coeficiant is: 0.9776230492196879\n"
     ]
    }
   ],
   "source": [
    "import pandas as pd\n",
    "import numpy as np\n",
    "\n",
    "# Set a random seed for reproducibility\n",
    "np.random.seed(42)\n",
    "\n",
    "# Generate random data for the number of hours of exercise per week and BMI\n",
    "n_participants = 50\n",
    "\n",
    "exercise_hours = np.random.uniform(2, 10, n_participants)  # Random hours of exercise between 2 and 10\n",
    "bmi = 25 + 2 * exercise_hours + np.random.normal(0, 1, n_participants)  # BMI based on a linear relationship with exercise\n",
    "\n",
    "# Create a DataFrame\n",
    "data = {\n",
    "    'Participant_ID': range(1, n_participants + 1),\n",
    "    'Exercise_Hours': exercise_hours,\n",
    "    'BMI': bmi\n",
    "}\n",
    "\n",
    "df = pd.DataFrame(data)\n",
    "\n",
    "# Display the first few rows of the DataFrame\n",
    "df.head()\n",
    "\n",
    "# now we have calculate the spearman and pearson correlation coefficiant\n",
    "pearson_corr = df[['Exercise_Hours','BMI']].corr(method='pearson').iloc[0,1]\n",
    "spearman_corr = df[['Exercise_Hours','BMI']].corr(method='spearman').iloc[0,1]\n",
    "print(f\"the pearson's correlation coeficiant is : {pearson_corr} and spearman's rank correlation coeficiant is: {spearman_corr}\")"
   ]
  },
  {
   "cell_type": "markdown",
   "metadata": {},
   "source": [
    "**Interpretation:**\n",
    "The code calculates both Pearson's correlation coefficient (\\(r\\)) and Spearman's rank correlation coefficient (\\(\\rho\\)) using the synthetic dataset on the relationship between the number of hours of exercise per week and body mass index (BMI) for 50 participants.\n",
    "\n",
    "1. **Pearson's Correlation Coefficient :**\n",
    "   - pearson_corr = 0980\n",
    "   - Interpretation: The positive value of pearson_corr indicates a strong positive linear relationship between the number of hours of exercise per week and BMI. In simpler terms, as the number of hours of exercise increases, BMI tends to increase as well.\n",
    "\n",
    "2. **Spearman's Rank Correlation Coefficient :**\n",
    "   - spearman_corr =0.977\n",
    "   - Interpretation: The positive value of spearman_corr suggests a strong positive monotonic relationship between the two variables. This means that there is a consistent trend that as the number of hours of exercise per week increases, BMI tends to increase.\n",
    "\n",
    "In summary, both correlation coefficients indicate a positive relationship between exercise hours and BMI in the provided dataset. The choice between Pearson and Spearman depends on the nature of the relationship and the distribution of the data. The high values of both coefficients suggest a clear trend, whether linear or monotonic, between the two variables in this synthetic dataset.\n",
    "\n",
    "***"
   ]
  },
  {
   "cell_type": "markdown",
   "metadata": {},
   "source": [
    "## **Q4. A researcher is interested in examining the relationship between the number of hours individuals spend watching television per day and their level of physical activity. The researcher collected data on both variables from a sample of 50 participants. Calculate the Pearson correlation coefficient between these two variables.**"
   ]
  },
  {
   "cell_type": "markdown",
   "metadata": {},
   "source": []
  },
  {
   "cell_type": "code",
   "execution_count": 9,
   "metadata": {},
   "outputs": [
    {
     "data": {
      "text/html": [
       "<div>\n",
       "<style scoped>\n",
       "    .dataframe tbody tr th:only-of-type {\n",
       "        vertical-align: middle;\n",
       "    }\n",
       "\n",
       "    .dataframe tbody tr th {\n",
       "        vertical-align: top;\n",
       "    }\n",
       "\n",
       "    .dataframe thead th {\n",
       "        text-align: right;\n",
       "    }\n",
       "</style>\n",
       "<table border=\"1\" class=\"dataframe\">\n",
       "  <thead>\n",
       "    <tr style=\"text-align: right;\">\n",
       "      <th></th>\n",
       "      <th>hours_watching_tv</th>\n",
       "      <th>physical_activity</th>\n",
       "    </tr>\n",
       "  </thead>\n",
       "  <tbody>\n",
       "    <tr>\n",
       "      <th>hours_watching_tv</th>\n",
       "      <td>1.000000</td>\n",
       "      <td>-0.988289</td>\n",
       "    </tr>\n",
       "    <tr>\n",
       "      <th>physical_activity</th>\n",
       "      <td>-0.988289</td>\n",
       "      <td>1.000000</td>\n",
       "    </tr>\n",
       "  </tbody>\n",
       "</table>\n",
       "</div>"
      ],
      "text/plain": [
       "                   hours_watching_tv  physical_activity\n",
       "hours_watching_tv           1.000000          -0.988289\n",
       "physical_activity          -0.988289           1.000000"
      ]
     },
     "execution_count": 9,
     "metadata": {},
     "output_type": "execute_result"
    }
   ],
   "source": [
    "# examining the relationship between  number of hours indivual spends on watching television per day and their level of physical activity \n",
    "# sample of 50\n",
    "import pandas as pd\n",
    "\n",
    "\n",
    "\n",
    "hours_watching_tv = [3, 4, 2, 5, 6, 1, 4, 3, 2, 5, 6, 1, 4, 3, 2, 5, 6, 1, 4, 3,\n",
    "                     2, 5, 6, 1, 4, 3, 2, 5, 6, 1, 4, 3, 2, 5, 6, 1, 4, 3, 2, 5,\n",
    "                     6, 1, 4, 3, 2, 5, 6, 1, 4, 3]\n",
    "\n",
    "physical_activity = [150, 120, 200, 100, 80, 220, 130, 150, 180, 90, 75, 230,\n",
    "                     120, 150, 190, 100, 80, 220, 130, 150, 180, 90, 75, 230, 120,\n",
    "                     150, 190, 100, 80, 220, 130, 150, 180, 90, 75, 230, 120, 150,\n",
    "                     190, 100, 80, 220, 130, 150, 180, 90, 75, 230, 120, 150]\n",
    "\n",
    "len(hours_watching_tv)\n",
    "len(physical_activity)\n",
    "df = pd.DataFrame({'hours_watching_tv':hours_watching_tv,\n",
    "                   'physical_activity':physical_activity})\n",
    "df.corr(method='pearson')"
   ]
  },
  {
   "cell_type": "markdown",
   "metadata": {},
   "source": [
    "### **the person correlation coeficient is 0.10173 and the correlation between the indiviadual spent hours to watch tv and thier physical activity is negative that means if the individuals spent more hours watching tv their physical activity is decreasing.**"
   ]
  }
 ],
 "metadata": {
  "kernelspec": {
   "display_name": "Python 3",
   "language": "python",
   "name": "python3"
  },
  "language_info": {
   "codemirror_mode": {
    "name": "ipython",
    "version": 3
   },
   "file_extension": ".py",
   "mimetype": "text/x-python",
   "name": "python",
   "nbconvert_exporter": "python",
   "pygments_lexer": "ipython3",
   "version": "3.12.0"
  }
 },
 "nbformat": 4,
 "nbformat_minor": 2
}
