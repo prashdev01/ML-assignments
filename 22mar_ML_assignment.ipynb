{
 "cells": [
  {
   "cell_type": "markdown",
   "metadata": {},
   "source": [
    "## **Q1. Pearson correlation coefficient is a measure of the linear relationship between two variables. Suppose you have collected data on the amount of time students spend studying for an exam and their final exam scores. Calculate the Pearson correlation coefficient between these two variables and interpret the result.**"
   ]
  },
  {
   "cell_type": "code",
   "execution_count": 2,
   "metadata": {},
   "outputs": [
    {
     "name": "stdout",
     "output_type": "stream",
     "text": [
      "pearson correlation coeficiant is  : 0.8986641371378515\n"
     ]
    }
   ],
   "source": [
    "# lest take an exmaple from the above question\n",
    "\n",
    "# creating a dataset which cantains two variables one is a time students spents on studying for exam . and the another one is the result the get in the final exam\n",
    "import pandas as pd\n",
    "import numpy as np\n",
    "\n",
    "df = pd.DataFrame({\n",
    "    \"time spent\": [2,4,1,6,8],\n",
    "    'results' : [50,40,30,60,80]\n",
    "})\n",
    "\n",
    "pearson_corr = df[['time spent','results']].corr(method='pearson').iloc[0,1]\n",
    "\n",
    "print(f\"pearson correlation coeficiant is  : {pearson_corr}\")"
   ]
  },
  {
   "cell_type": "markdown",
   "metadata": {},
   "source": [
    "### Certainly! The pearson correlation coefficient  is approximately 0.898. Here's a simple interpretation:\n",
    "\n",
    "**Interpretation:**\n",
    "The value of pearson correlation is close to 1, indicating a very strong positive relationship between the amount of students spent time on study and the final results the get. In simpler terms, as the amount of time the spent on study tends to higher , results tends to increase as well. This suggests a clear and consistent pattern: when students spents more time on studing , they are more likely to perform well in exam and get higher marks.\n",
    "\n",
    "***"
   ]
  },
  {
   "cell_type": "markdown",
   "metadata": {},
   "source": [
    "## **Q2. Spearman's rank correlation is a measure of the monotonic relationship between two variables. Suppose you have collected data on the amount of sleep individuals get each night and their overall job satisfaction level on a scale of 1 to 10. Calculate the Spearman's rank correlation between these two variables and interpret the result.**"
   ]
  },
  {
   "cell_type": "code",
   "execution_count": 3,
   "metadata": {},
   "outputs": [
    {
     "name": "stdout",
     "output_type": "stream",
     "text": [
      "spearman's rank correlation coeficiant (rho) is : 0.9746794344808964\n"
     ]
    }
   ],
   "source": [
    "import pandas as pd\n",
    "\n",
    "# Create a DataFrame with the given data\n",
    "data = {\n",
    "    'Individual': [1, 2, 3, 4, 5],\n",
    "    'Sleep': [7, 6, 8, 5, 7],\n",
    "    'Job_Satisfaction': [8, 6, 9, 5, 7]\n",
    "}\n",
    "\n",
    "df = pd.DataFrame(data)\n",
    "\n",
    "# Calculate spearman rank correlation \n",
    "# df.corr(method='spearman') \n",
    "\n",
    "# Calculate spearman rank correlation  coeficiant\n",
    "\n",
    "rho = df[['Sleep','Job_Satisfaction']].corr(method='spearman').iloc[0,1]\n",
    "print(f\"spearman's rank correlation coeficiant (rho) is : {rho}\")"
   ]
  },
  {
   "cell_type": "markdown",
   "metadata": {},
   "source": [
    "Certainly! The Spearman's rank correlation coefficient (\\( \\rho \\)) is approximately 0.975. Here's a simple interpretation:\n",
    "\n",
    "**Interpretation:**\n",
    "The value of rho  is close to 1, indicating a very strong positive monotonic relationship between the amount of sleep individuals get each night and their overall job satisfaction level. In simpler terms, as the amount of sleep increases, job satisfaction tends to increase as well. This suggests a clear and consistent pattern: when people sleep more, they are more likely to report higher levels of job satisfaction.\n",
    "\n",
    "***"
   ]
  },
  {
   "cell_type": "markdown",
   "metadata": {},
   "source": [
    "## **Q3. Suppose you are conducting a study to examine the relationship between the number of hours of exercise per week and body mass index (BMI) in a sample of adults. You collected data on both variables for 50 participants. Calculate the Pearson correlation coefficient and the Spearman's rank correlation between these two variables and compare the results.**"
   ]
  },
  {
   "cell_type": "code",
   "execution_count": 4,
   "metadata": {},
   "outputs": [
    {
     "name": "stdout",
     "output_type": "stream",
     "text": [
      "the pearson's correlation coeficiant is : 0.9803763544334108 and spearman's rank correlation coeficiant is: 0.9776230492196879\n"
     ]
    }
   ],
   "source": [
    "import pandas as pd\n",
    "import numpy as np\n",
    "\n",
    "# Set a random seed for reproducibility\n",
    "np.random.seed(42)\n",
    "\n",
    "# Generate random data for the number of hours of exercise per week and BMI\n",
    "n_participants = 50\n",
    "\n",
    "exercise_hours = np.random.uniform(2, 10, n_participants)  # Random hours of exercise between 2 and 10\n",
    "bmi = 25 + 2 * exercise_hours + np.random.normal(0, 1, n_participants)  # BMI based on a linear relationship with exercise\n",
    "\n",
    "# Create a DataFrame\n",
    "data = {\n",
    "    'Participant_ID': range(1, n_participants + 1),\n",
    "    'Exercise_Hours': exercise_hours,\n",
    "    'BMI': bmi\n",
    "}\n",
    "\n",
    "df = pd.DataFrame(data)\n",
    "\n",
    "# Display the first few rows of the DataFrame\n",
    "df.head()\n",
    "\n",
    "# now we have calculate the spearman and pearson correlation coefficiant\n",
    "pearson_corr = df[['Exercise_Hours','BMI']].corr(method='pearson').iloc[0,1]\n",
    "spearman_corr = df[['Exercise_Hours','BMI']].corr(method='spearman').iloc[0,1]\n",
    "print(f\"the pearson's correlation coeficiant is : {pearson_corr} and spearman's rank correlation coeficiant is: {spearman_corr}\")"
   ]
  },
  {
   "cell_type": "markdown",
   "metadata": {},
   "source": [
    "**Interpretation:**\n",
    "The code calculates both Pearson's correlation coefficient (\\(r\\)) and Spearman's rank correlation coefficient (\\(\\rho\\)) using the synthetic dataset on the relationship between the number of hours of exercise per week and body mass index (BMI) for 50 participants.\n",
    "\n",
    "1. **Pearson's Correlation Coefficient :**\n",
    "   - pearson_corr = 0980\n",
    "   - Interpretation: The positive value of pearson_corr indicates a strong positive linear relationship between the number of hours of exercise per week and BMI. In simpler terms, as the number of hours of exercise increases, BMI tends to increase as well.\n",
    "\n",
    "2. **Spearman's Rank Correlation Coefficient :**\n",
    "   - spearman_corr =0.977\n",
    "   - Interpretation: The positive value of spearman_corr suggests a strong positive monotonic relationship between the two variables. This means that there is a consistent trend that as the number of hours of exercise per week increases, BMI tends to increase.\n",
    "\n",
    "In summary, both correlation coefficients indicate a positive relationship between exercise hours and BMI in the provided dataset. The choice between Pearson and Spearman depends on the nature of the relationship and the distribution of the data. The high values of both coefficients suggest a clear trend, whether linear or monotonic, between the two variables in this synthetic dataset.\n",
    "\n",
    "***"
   ]
  },
  {
   "cell_type": "markdown",
   "metadata": {},
   "source": [
    "## **Q4. A researcher is interested in examining the relationship between the number of hours individuals spend watching television per day and their level of physical activity. The researcher collected data on both variables from a sample of 50 participants. Calculate the Pearson correlation coefficient between these two variables.**"
   ]
  },
  {
   "cell_type": "markdown",
   "metadata": {},
   "source": []
  },
  {
   "cell_type": "code",
   "execution_count": 5,
   "metadata": {},
   "outputs": [
    {
     "data": {
      "text/html": [
       "<div>\n",
       "<style scoped>\n",
       "    .dataframe tbody tr th:only-of-type {\n",
       "        vertical-align: middle;\n",
       "    }\n",
       "\n",
       "    .dataframe tbody tr th {\n",
       "        vertical-align: top;\n",
       "    }\n",
       "\n",
       "    .dataframe thead th {\n",
       "        text-align: right;\n",
       "    }\n",
       "</style>\n",
       "<table border=\"1\" class=\"dataframe\">\n",
       "  <thead>\n",
       "    <tr style=\"text-align: right;\">\n",
       "      <th></th>\n",
       "      <th>hours_watching_tv</th>\n",
       "      <th>physical_activity</th>\n",
       "    </tr>\n",
       "  </thead>\n",
       "  <tbody>\n",
       "    <tr>\n",
       "      <th>hours_watching_tv</th>\n",
       "      <td>1.000000</td>\n",
       "      <td>-0.988289</td>\n",
       "    </tr>\n",
       "    <tr>\n",
       "      <th>physical_activity</th>\n",
       "      <td>-0.988289</td>\n",
       "      <td>1.000000</td>\n",
       "    </tr>\n",
       "  </tbody>\n",
       "</table>\n",
       "</div>"
      ],
      "text/plain": [
       "                   hours_watching_tv  physical_activity\n",
       "hours_watching_tv           1.000000          -0.988289\n",
       "physical_activity          -0.988289           1.000000"
      ]
     },
     "execution_count": 5,
     "metadata": {},
     "output_type": "execute_result"
    }
   ],
   "source": [
    "# examining the relationship between  number of hours indivual spends on watching television per day and their level of physical activity \n",
    "# sample of 50\n",
    "import pandas as pd\n",
    "\n",
    "\n",
    "\n",
    "hours_watching_tv = [3, 4, 2, 5, 6, 1, 4, 3, 2, 5, 6, 1, 4, 3, 2, 5, 6, 1, 4, 3,\n",
    "                     2, 5, 6, 1, 4, 3, 2, 5, 6, 1, 4, 3, 2, 5, 6, 1, 4, 3, 2, 5,\n",
    "                     6, 1, 4, 3, 2, 5, 6, 1, 4, 3]\n",
    "\n",
    "physical_activity = [150, 120, 200, 100, 80, 220, 130, 150, 180, 90, 75, 230,\n",
    "                     120, 150, 190, 100, 80, 220, 130, 150, 180, 90, 75, 230, 120,\n",
    "                     150, 190, 100, 80, 220, 130, 150, 180, 90, 75, 230, 120, 150,\n",
    "                     190, 100, 80, 220, 130, 150, 180, 90, 75, 230, 120, 150]\n",
    "\n",
    "len(hours_watching_tv)\n",
    "len(physical_activity)\n",
    "df = pd.DataFrame({'hours_watching_tv':hours_watching_tv,\n",
    "                   'physical_activity':physical_activity})\n",
    "df.corr(method='pearson')"
   ]
  },
  {
   "cell_type": "markdown",
   "metadata": {},
   "source": [
    "### **the person correlation coeficient is 0.10173 and the correlation between the indiviadual spent hours to watch tv and thier physical activity is negative that means if the individuals spent more hours watching tv their physical activity is decreasing.**\n",
    "\n",
    "***"
   ]
  },
  {
   "cell_type": "markdown",
   "metadata": {},
   "source": [
    "# **Q5. A survey was conducted to examine the relationship between age and preference for a particular brand of soft drink. The survey results are shown below:**\n",
    "\n",
    "|Age(Years)|Soft Drinks Prefernce|\n",
    "|-----|------|\n",
    "|25|Coke|\n",
    "|42|Pepsi|\n",
    "|37|Mountain Dew|\n",
    "|19|Coke|\n",
    "|31|Pepsi|\n",
    "|28|Coke|"
   ]
  },
  {
   "cell_type": "code",
   "execution_count": 13,
   "metadata": {},
   "outputs": [
    {
     "data": {
      "text/html": [
       "<div>\n",
       "<style scoped>\n",
       "    .dataframe tbody tr th:only-of-type {\n",
       "        vertical-align: middle;\n",
       "    }\n",
       "\n",
       "    .dataframe tbody tr th {\n",
       "        vertical-align: top;\n",
       "    }\n",
       "\n",
       "    .dataframe thead th {\n",
       "        text-align: right;\n",
       "    }\n",
       "</style>\n",
       "<table border=\"1\" class=\"dataframe\">\n",
       "  <thead>\n",
       "    <tr style=\"text-align: right;\">\n",
       "      <th></th>\n",
       "      <th>Age</th>\n",
       "      <th>Soft Drink Prefernce</th>\n",
       "    </tr>\n",
       "  </thead>\n",
       "  <tbody>\n",
       "    <tr>\n",
       "      <th>0</th>\n",
       "      <td>25</td>\n",
       "      <td>Coke</td>\n",
       "    </tr>\n",
       "    <tr>\n",
       "      <th>1</th>\n",
       "      <td>42</td>\n",
       "      <td>Pepsi</td>\n",
       "    </tr>\n",
       "    <tr>\n",
       "      <th>2</th>\n",
       "      <td>37</td>\n",
       "      <td>Mountain Dew</td>\n",
       "    </tr>\n",
       "    <tr>\n",
       "      <th>3</th>\n",
       "      <td>19</td>\n",
       "      <td>Coke</td>\n",
       "    </tr>\n",
       "    <tr>\n",
       "      <th>4</th>\n",
       "      <td>31</td>\n",
       "      <td>Pepsi</td>\n",
       "    </tr>\n",
       "  </tbody>\n",
       "</table>\n",
       "</div>"
      ],
      "text/plain": [
       "   Age Soft Drink Prefernce\n",
       "0   25                 Coke\n",
       "1   42                Pepsi\n",
       "2   37         Mountain Dew\n",
       "3   19                 Coke\n",
       "4   31                Pepsi"
      ]
     },
     "execution_count": 13,
     "metadata": {},
     "output_type": "execute_result"
    }
   ],
   "source": [
    "import pandas as pd\n",
    "import numpy as np\n",
    "\n",
    "df = pd.DataFrame({\n",
    "    'Age' : [25,42,37,19,31,28],\n",
    "    'Soft Drink Prefernce' : ['Coke','Pepsi','Mountain Dew','Coke','Pepsi','Coke']\n",
    "})\n",
    "\n",
    "df.head()"
   ]
  },
  {
   "cell_type": "code",
   "execution_count": 14,
   "metadata": {},
   "outputs": [
    {
     "data": {
      "text/html": [
       "<div>\n",
       "<style scoped>\n",
       "    .dataframe tbody tr th:only-of-type {\n",
       "        vertical-align: middle;\n",
       "    }\n",
       "\n",
       "    .dataframe tbody tr th {\n",
       "        vertical-align: top;\n",
       "    }\n",
       "\n",
       "    .dataframe thead th {\n",
       "        text-align: right;\n",
       "    }\n",
       "</style>\n",
       "<table border=\"1\" class=\"dataframe\">\n",
       "  <thead>\n",
       "    <tr style=\"text-align: right;\">\n",
       "      <th></th>\n",
       "      <th>Age</th>\n",
       "      <th>Soft Drink Prefernce</th>\n",
       "      <th>Soft Drink Prefernce_Coke</th>\n",
       "      <th>Soft Drink Prefernce_Mountain Dew</th>\n",
       "      <th>Soft Drink Prefernce_Pepsi</th>\n",
       "    </tr>\n",
       "  </thead>\n",
       "  <tbody>\n",
       "    <tr>\n",
       "      <th>0</th>\n",
       "      <td>25</td>\n",
       "      <td>Coke</td>\n",
       "      <td>1.0</td>\n",
       "      <td>0.0</td>\n",
       "      <td>0.0</td>\n",
       "    </tr>\n",
       "    <tr>\n",
       "      <th>1</th>\n",
       "      <td>42</td>\n",
       "      <td>Pepsi</td>\n",
       "      <td>0.0</td>\n",
       "      <td>0.0</td>\n",
       "      <td>1.0</td>\n",
       "    </tr>\n",
       "    <tr>\n",
       "      <th>2</th>\n",
       "      <td>37</td>\n",
       "      <td>Mountain Dew</td>\n",
       "      <td>0.0</td>\n",
       "      <td>1.0</td>\n",
       "      <td>0.0</td>\n",
       "    </tr>\n",
       "    <tr>\n",
       "      <th>3</th>\n",
       "      <td>19</td>\n",
       "      <td>Coke</td>\n",
       "      <td>1.0</td>\n",
       "      <td>0.0</td>\n",
       "      <td>0.0</td>\n",
       "    </tr>\n",
       "    <tr>\n",
       "      <th>4</th>\n",
       "      <td>31</td>\n",
       "      <td>Pepsi</td>\n",
       "      <td>0.0</td>\n",
       "      <td>0.0</td>\n",
       "      <td>1.0</td>\n",
       "    </tr>\n",
       "  </tbody>\n",
       "</table>\n",
       "</div>"
      ],
      "text/plain": [
       "   Age Soft Drink Prefernce  Soft Drink Prefernce_Coke  \\\n",
       "0   25                 Coke                        1.0   \n",
       "1   42                Pepsi                        0.0   \n",
       "2   37         Mountain Dew                        0.0   \n",
       "3   19                 Coke                        1.0   \n",
       "4   31                Pepsi                        0.0   \n",
       "\n",
       "   Soft Drink Prefernce_Mountain Dew  Soft Drink Prefernce_Pepsi  \n",
       "0                                0.0                         0.0  \n",
       "1                                0.0                         1.0  \n",
       "2                                1.0                         0.0  \n",
       "3                                0.0                         0.0  \n",
       "4                                0.0                         1.0  "
      ]
     },
     "execution_count": 14,
     "metadata": {},
     "output_type": "execute_result"
    }
   ],
   "source": [
    "# as we can see their are categorical feature present in our dataset so furst we have to use an encoding to convert them into numerical , for above case we can use the onehot encoding .\n",
    "from sklearn.preprocessing import OneHotEncoder\n",
    "encoder = OneHotEncoder()\n",
    "encoded = encoder.fit_transform(df[['Soft Drink Prefernce']])\n",
    "encoded_df = pd.DataFrame(encoded.toarray(),columns=encoder.get_feature_names_out())\n",
    "df = pd.concat([df,encoded_df],axis=1)\n",
    "df.head()"
   ]
  },
  {
   "cell_type": "code",
   "execution_count": 15,
   "metadata": {},
   "outputs": [
    {
     "data": {
      "text/html": [
       "<div>\n",
       "<style scoped>\n",
       "    .dataframe tbody tr th:only-of-type {\n",
       "        vertical-align: middle;\n",
       "    }\n",
       "\n",
       "    .dataframe tbody tr th {\n",
       "        vertical-align: top;\n",
       "    }\n",
       "\n",
       "    .dataframe thead th {\n",
       "        text-align: right;\n",
       "    }\n",
       "</style>\n",
       "<table border=\"1\" class=\"dataframe\">\n",
       "  <thead>\n",
       "    <tr style=\"text-align: right;\">\n",
       "      <th></th>\n",
       "      <th>Age</th>\n",
       "      <th>Soft Drink Prefernce_Coke</th>\n",
       "      <th>Soft Drink Prefernce_Mountain Dew</th>\n",
       "      <th>Soft Drink Prefernce_Pepsi</th>\n",
       "    </tr>\n",
       "  </thead>\n",
       "  <tbody>\n",
       "    <tr>\n",
       "      <th>Age</th>\n",
       "      <td>1.000000</td>\n",
       "      <td>-0.878310</td>\n",
       "      <td>0.392792</td>\n",
       "      <td>0.621059</td>\n",
       "    </tr>\n",
       "    <tr>\n",
       "      <th>Soft Drink Prefernce_Coke</th>\n",
       "      <td>-0.878310</td>\n",
       "      <td>1.000000</td>\n",
       "      <td>-0.447214</td>\n",
       "      <td>-0.707107</td>\n",
       "    </tr>\n",
       "    <tr>\n",
       "      <th>Soft Drink Prefernce_Mountain Dew</th>\n",
       "      <td>0.392792</td>\n",
       "      <td>-0.447214</td>\n",
       "      <td>1.000000</td>\n",
       "      <td>-0.316228</td>\n",
       "    </tr>\n",
       "    <tr>\n",
       "      <th>Soft Drink Prefernce_Pepsi</th>\n",
       "      <td>0.621059</td>\n",
       "      <td>-0.707107</td>\n",
       "      <td>-0.316228</td>\n",
       "      <td>1.000000</td>\n",
       "    </tr>\n",
       "  </tbody>\n",
       "</table>\n",
       "</div>"
      ],
      "text/plain": [
       "                                        Age  Soft Drink Prefernce_Coke  \\\n",
       "Age                                1.000000                  -0.878310   \n",
       "Soft Drink Prefernce_Coke         -0.878310                   1.000000   \n",
       "Soft Drink Prefernce_Mountain Dew  0.392792                  -0.447214   \n",
       "Soft Drink Prefernce_Pepsi         0.621059                  -0.707107   \n",
       "\n",
       "                                   Soft Drink Prefernce_Mountain Dew  \\\n",
       "Age                                                         0.392792   \n",
       "Soft Drink Prefernce_Coke                                  -0.447214   \n",
       "Soft Drink Prefernce_Mountain Dew                           1.000000   \n",
       "Soft Drink Prefernce_Pepsi                                 -0.316228   \n",
       "\n",
       "                                   Soft Drink Prefernce_Pepsi  \n",
       "Age                                                  0.621059  \n",
       "Soft Drink Prefernce_Coke                           -0.707107  \n",
       "Soft Drink Prefernce_Mountain Dew                   -0.316228  \n",
       "Soft Drink Prefernce_Pepsi                           1.000000  "
      ]
     },
     "execution_count": 15,
     "metadata": {},
     "output_type": "execute_result"
    }
   ],
   "source": [
    "# Now we converted the categorical data into numerical so now we can get the relationship \n",
    "df.corr(method='spearman',numeric_only=True)"
   ]
  },
  {
   "cell_type": "markdown",
   "metadata": {},
   "source": [
    "# **Q6. A company is interested in examining the relationship between the number of sales calls made per day and the number of sales made per week. The company collected data on both variables from a sample of 30 sales representatives. Calculate the Pearson correlation coefficient between these two variables.**"
   ]
  },
  {
   "cell_type": "code",
   "execution_count": 9,
   "metadata": {},
   "outputs": [],
   "source": [
    "#  30 sels represent\n",
    "# sales calls | sales made \n",
    "sales_calls_per_week =    [  10, 12, 8, 15, 14, 18, 20, 22, 10, 12,\n",
    "                           16, 25, 8, 14, 18, 20, 22, 24, 25, 30,\n",
    "                           15, 12, 10, 8, 18, 20, 22, 24, 25, 28]\n",
    "\n",
    "sales_per_week =          [5, 6, 4, 7, 8, 9, 10, 11, 5, 6,\n",
    "                           8, 15, 4, 7, 10, 11, 12, 13, 14, 16,\n",
    "                           8, 6, 5, 4, 10, 12, 13, 14, 15, 17]\n"
   ]
  },
  {
   "cell_type": "code",
   "execution_count": 10,
   "metadata": {},
   "outputs": [
    {
     "data": {
      "text/html": [
       "<div>\n",
       "<style scoped>\n",
       "    .dataframe tbody tr th:only-of-type {\n",
       "        vertical-align: middle;\n",
       "    }\n",
       "\n",
       "    .dataframe tbody tr th {\n",
       "        vertical-align: top;\n",
       "    }\n",
       "\n",
       "    .dataframe thead th {\n",
       "        text-align: right;\n",
       "    }\n",
       "</style>\n",
       "<table border=\"1\" class=\"dataframe\">\n",
       "  <thead>\n",
       "    <tr style=\"text-align: right;\">\n",
       "      <th></th>\n",
       "      <th>sales_calls_per_week</th>\n",
       "      <th>sales_per_week</th>\n",
       "    </tr>\n",
       "  </thead>\n",
       "  <tbody>\n",
       "    <tr>\n",
       "      <th>0</th>\n",
       "      <td>10</td>\n",
       "      <td>5</td>\n",
       "    </tr>\n",
       "    <tr>\n",
       "      <th>1</th>\n",
       "      <td>12</td>\n",
       "      <td>6</td>\n",
       "    </tr>\n",
       "    <tr>\n",
       "      <th>2</th>\n",
       "      <td>8</td>\n",
       "      <td>4</td>\n",
       "    </tr>\n",
       "    <tr>\n",
       "      <th>3</th>\n",
       "      <td>15</td>\n",
       "      <td>7</td>\n",
       "    </tr>\n",
       "    <tr>\n",
       "      <th>4</th>\n",
       "      <td>14</td>\n",
       "      <td>8</td>\n",
       "    </tr>\n",
       "  </tbody>\n",
       "</table>\n",
       "</div>"
      ],
      "text/plain": [
       "   sales_calls_per_week  sales_per_week\n",
       "0                    10               5\n",
       "1                    12               6\n",
       "2                     8               4\n",
       "3                    15               7\n",
       "4                    14               8"
      ]
     },
     "execution_count": 10,
     "metadata": {},
     "output_type": "execute_result"
    }
   ],
   "source": [
    "import pandas as pd \n",
    "import numpy as np\n",
    "\n",
    "df = pd.DataFrame({\n",
    "    'sales_calls_per_week' : sales_calls_per_week,\n",
    "    'sales_per_week' :sales_per_week\n",
    "})\n",
    "df.head()"
   ]
  },
  {
   "cell_type": "code",
   "execution_count": 11,
   "metadata": {},
   "outputs": [
    {
     "data": {
      "text/html": [
       "<div>\n",
       "<style scoped>\n",
       "    .dataframe tbody tr th:only-of-type {\n",
       "        vertical-align: middle;\n",
       "    }\n",
       "\n",
       "    .dataframe tbody tr th {\n",
       "        vertical-align: top;\n",
       "    }\n",
       "\n",
       "    .dataframe thead th {\n",
       "        text-align: right;\n",
       "    }\n",
       "</style>\n",
       "<table border=\"1\" class=\"dataframe\">\n",
       "  <thead>\n",
       "    <tr style=\"text-align: right;\">\n",
       "      <th></th>\n",
       "      <th>sales_calls_per_week</th>\n",
       "      <th>sales_per_week</th>\n",
       "    </tr>\n",
       "  </thead>\n",
       "  <tbody>\n",
       "    <tr>\n",
       "      <th>sales_calls_per_week</th>\n",
       "      <td>1.000000</td>\n",
       "      <td>0.986835</td>\n",
       "    </tr>\n",
       "    <tr>\n",
       "      <th>sales_per_week</th>\n",
       "      <td>0.986835</td>\n",
       "      <td>1.000000</td>\n",
       "    </tr>\n",
       "  </tbody>\n",
       "</table>\n",
       "</div>"
      ],
      "text/plain": [
       "                      sales_calls_per_week  sales_per_week\n",
       "sales_calls_per_week              1.000000        0.986835\n",
       "sales_per_week                    0.986835        1.000000"
      ]
     },
     "execution_count": 11,
     "metadata": {},
     "output_type": "execute_result"
    }
   ],
   "source": [
    "df.corr(method='pearson')"
   ]
  },
  {
   "cell_type": "markdown",
   "metadata": {},
   "source": [
    "### The correlation coeficient of the these two variable is 0.986 which is possitive correlation coeficient between two of them , this mean if the sales called per week increases the sales per week also increases. \n",
    "\n",
    "\n",
    "***"
   ]
  }
 ],
 "metadata": {
  "kernelspec": {
   "display_name": "Python 3",
   "language": "python",
   "name": "python3"
  },
  "language_info": {
   "codemirror_mode": {
    "name": "ipython",
    "version": 3
   },
   "file_extension": ".py",
   "mimetype": "text/x-python",
   "name": "python",
   "nbconvert_exporter": "python",
   "pygments_lexer": "ipython3",
   "version": "3.12.0"
  }
 },
 "nbformat": 4,
 "nbformat_minor": 2
}
