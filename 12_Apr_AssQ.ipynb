{
 "cells": [
  {
   "cell_type": "markdown",
   "metadata": {},
   "source": [
    "# **Q1. How does bagging reduce overfitting in decision trees?**\n"
   ]
  },
  {
   "cell_type": "markdown",
   "metadata": {},
   "source": [
    "#### Bagging reduces overfitting in decision trees by training multiple trees on different subsets of the training data and then averaging their predictions. This approach, called Bootstrap Aggregating or Bagging, helps to reduce the variance in the model by making the aggregate predictions more robust and less sensitive to the noise in the training data."
   ]
  },
  {
   "cell_type": "markdown",
   "metadata": {},
   "source": [
    "# **Q2. What are the advantages and disadvantages of using different types of base learners in bagging?**\n"
   ]
  },
  {
   "cell_type": "markdown",
   "metadata": {},
   "source": [
    "- Advantages:\n",
    "    * Using different types of base learners allows for diversity in the ensemble, which can lead to improved overall performance.\n",
    "    * It can help capture different patterns and relationships in the data, leading to better generalization.\n",
    "    * Diversity in base learners can also enhance the robustness of the ensemble model.\n",
    "- Disadvantages:\n",
    "    * If the base learners are not well-suited for the specific problem, they may introduce noise and degrade the ensemble performance.\n",
    "    * It can increase computational complexity and training time, especially if the base learners have different training requirements."
   ]
  },
  {
   "cell_type": "markdown",
   "metadata": {},
   "source": [
    "# **Q3. How does the choice of base learner affect the bias-variance tradeoff in bagging?**\n"
   ]
  },
  {
   "cell_type": "markdown",
   "metadata": {},
   "source": [
    "#### The choice of base learner can impact the bias-variance tradeoff in bagging. Using diverse base learners can help to reduce the variance component of the tradeoff by making the ensemble less sensitive to the noise and fluctuations in the training data. However, if the base learners are too complex and high-variance individually, they can still contribute to an overall high variance in the bagging ensemble."
   ]
  },
  {
   "cell_type": "markdown",
   "metadata": {},
   "source": [
    "# **Q4. Can bagging be used for both classification and regression tasks? How does it differ in each case?**\n"
   ]
  },
  {
   "cell_type": "markdown",
   "metadata": {},
   "source": [
    "#### Yes, bagging can be used for both classification and regression tasks. In classification, bagging involves training multiple classifiers (e.g., decision trees) on different subsets of the training data and combining their predictions through voting or averaging. In regression, the same approach is applied, but the base learners are typically used to predict continuous values instead of classes. The difference lies in the specific nature of the predictions - discrete classes in classification and continuous values in regression."
   ]
  },
  {
   "cell_type": "markdown",
   "metadata": {},
   "source": [
    "# **Q5. What is the role of ensemble size in bagging? How many models should be included in the ensemble?**\n"
   ]
  },
  {
   "cell_type": "markdown",
   "metadata": {},
   "source": [
    "#### The ensemble size in bagging refers to the number of models (base learners) that are trained on different subsets of the training data. Generally, a larger ensemble size can lead to better performance up to a certain point, after which the returns diminish. The optimal ensemble size depends on factors such as the complexity of the problem, the diversity of base learners, and the available computational resources."
   ]
  },
  {
   "cell_type": "markdown",
   "metadata": {},
   "source": [
    "# **Q6. Can you provide an example of a real-world application of bagging in machine learning?**"
   ]
  },
  {
   "cell_type": "markdown",
   "metadata": {},
   "source": [
    "#### Real-world application: Bagging is commonly used in the field of finance for credit scoring. Multiple decision trees are trained on different subsets of historical customer data to predict credit risk for new loan applications. By combining the predictions of these trees using bagging, the model can provide more robust and accurate credit risk assessments, contributing to better lending decisions."
   ]
  }
 ],
 "metadata": {
  "language_info": {
   "name": "python"
  }
 },
 "nbformat": 4,
 "nbformat_minor": 2
}
