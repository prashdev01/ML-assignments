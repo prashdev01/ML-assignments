{
 "cells": [
  {
   "cell_type": "markdown",
   "metadata": {},
   "source": [
    "# **Q1. What is the difference between Ordinal Encoding and Label Encoding? Provide an example of when you might choose one over the other.**\n",
    "\n",
    "- ### **ANS---->** : One of the measure difference between the ordinal encoding and label encoding is as follows :\n",
    "\n",
    "|Ordinal Encoding | Lable Encoding | \n",
    "|-----------------|----------------|\n",
    "|`Ordinal Encoding` assign unique integer values to each category in categorical variable, preserving the order of the categories. |`Lable Encoding` assigns unique integer values to each category in a categorical variable but the order the categories not preserved.|\n",
    "|*Example* : if a categorical variable has 3 categories, and ordinal encoding is used, than the value 1,2 and 3 might br assigned to the categories | *Example* : if a cetegoriacal variable has 3 categoris, and label encoding is used than the values 0,1 and 2 might be assigned to the categories. |\n",
    "|`oridinal encoding` assigns ranking by defualt | while `Label Encoding` gives you the opportunaty to assign ranking according to your need|\n",
    "\n",
    "***"
   ]
  },
  {
   "cell_type": "markdown",
   "metadata": {},
   "source": [
    "\n",
    "# **Q2. Explain how Target Guided Ordinal Encoding works and provide an example of when you might use it in a machine learning project.**\n",
    "\n",
    "**ANS :-** Target guided ordinal encoding is a more advanced technique than ordinal encoding or label encoding. It takes into account the target variable when assigning integer values to the categories. This means that the integer values assigned to the categories will reflect the relationship between the categories and the target variable. For example, if the target variable is price, and the categories are ordered in ascending order from cheap to expensive, then the integer values assigned to the categories will also be in ascending order from cheap to expensive. \n",
    "\n",
    "***"
   ]
  },
  {
   "cell_type": "markdown",
   "metadata": {},
   "source": [
    "\n",
    "# **Q3. Define covariance and explain why it is important in statistical analysis. How is covariance calculated?**\n",
    "\n",
    "\n",
    "*AMS:*\n",
    "covarinace is a measure of how much two random variable vary together. it is calculated as the avarage of the product of the deviation of the each variable from it mean\n",
    "\n",
    "A positive covarinace indicates that the two variable tend to move in the same direction, while negative covarince indicates that they tend to move in opposite direction. A covarince of zero indicates that there is no linear relationship between the two variables \n",
    "- covarinace is important in statistical analysis becuase it can be used to : \n",
    "    * identify the relation between two variable\n",
    "    * predict the value of one variable given in the value of another variable.\n",
    "    * Control for the effects of one varible when analyzing the relation between two other variable  \n",
    "The covarince between two varible is calculates as follows :\n",
    "`cov(x, y) = (x - mean(x)) * (y - mean(y)) / n`\n",
    "Where \n",
    "* `x` and `y` are two variable\n",
    "* `mean(x)` and `mean(y)` are the means of two variables \n",
    "* `n` is the number of obeservation\n",
    "```cov(x,y) =(x-mean(x)) * (y-mean(y)) / n\n",
    "= `\n",
    "***\n"
   ]
  },
  {
   "cell_type": "markdown",
   "metadata": {},
   "source": [
    "\n",
    "# **Q4. For a dataset with the following categorical variables: Color (red, green, blue), Size (small, medium, large), and Material (wood, metal, plastic), perform label encoding using Python's scikit-learn library. Show your code and explain the output.**\n",
    "\n",
    "***\n"
   ]
  },
  {
   "cell_type": "markdown",
   "metadata": {},
   "source": [
    "\n",
    "# **Q5. Calculate the covariance matrix for the following variables in a dataset: Age, Income, and Education level. Interpret the results.**\n",
    "\n",
    "***\n"
   ]
  },
  {
   "cell_type": "markdown",
   "metadata": {},
   "source": [
    "\n",
    "# **Q6. You are working on a machine learning project with a dataset containing several categorical variables, including \"Gender\" (Male/Female), \"Education Level\" (High School/Bachelor's/Master's/PhD), and \"Employment Status\" (Unemployed/Part-Time/Full-Time). Which encoding method would you use for each variable, and why?**\n",
    "\n",
    "***\n"
   ]
  },
  {
   "cell_type": "markdown",
   "metadata": {},
   "source": [
    "\n",
    "# **Q7. You are analyzing a dataset with two continuous variables, \"Temperature\" and \"Humidity\", and two categorical variables, \"Weather Condition\" (Sunny/Cloudy/Rainy) and \"Wind Direction\" (North/South/ East/West). Calculate the covariance between each pair of variables and interpret the results.**\n",
    "\n",
    "***\n"
   ]
  },
  {
   "cell_type": "markdown",
   "metadata": {},
   "source": []
  }
 ],
 "metadata": {
  "language_info": {
   "name": "python"
  },
  "orig_nbformat": 4
 },
 "nbformat": 4,
 "nbformat_minor": 2
}
